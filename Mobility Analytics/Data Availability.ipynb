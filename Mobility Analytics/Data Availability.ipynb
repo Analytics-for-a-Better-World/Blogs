{
 "cells": [
  {
   "cell_type": "code",
   "execution_count": 1,
   "metadata": {},
   "outputs": [],
   "source": [
    "import pandas as pd"
   ]
  },
  {
   "cell_type": "code",
   "execution_count": 4,
   "metadata": {},
   "outputs": [],
   "source": [
    "df_google_mobility = pd.read_csv('https://www.gstatic.com/covid19/mobility/Global_Mobility_Report.csv',low_memory=False)"
   ]
  },
  {
   "cell_type": "code",
   "execution_count": 7,
   "metadata": {},
   "outputs": [
    {
     "data": {
      "text/plain": [
       "135"
      ]
     },
     "execution_count": 7,
     "metadata": {},
     "output_type": "execute_result"
    }
   ],
   "source": [
    "df_google_mobility['country_region'].nunique()"
   ]
  },
  {
   "cell_type": "code",
   "execution_count": 23,
   "metadata": {},
   "outputs": [
    {
     "data": {
      "text/html": [
       "<div>\n",
       "<style scoped>\n",
       "    .dataframe tbody tr th:only-of-type {\n",
       "        vertical-align: middle;\n",
       "    }\n",
       "\n",
       "    .dataframe tbody tr th {\n",
       "        vertical-align: top;\n",
       "    }\n",
       "\n",
       "    .dataframe thead th {\n",
       "        text-align: right;\n",
       "    }\n",
       "</style>\n",
       "<table border=\"1\" class=\"dataframe\">\n",
       "  <thead>\n",
       "    <tr style=\"text-align: right;\">\n",
       "      <th></th>\n",
       "      <th>country_region_code</th>\n",
       "      <th>country_region</th>\n",
       "      <th>sub_region_1</th>\n",
       "      <th>sub_region_2</th>\n",
       "      <th>metro_area</th>\n",
       "      <th>iso_3166_2_code</th>\n",
       "      <th>census_fips_code</th>\n",
       "      <th>place_id</th>\n",
       "      <th>date</th>\n",
       "      <th>retail_and_recreation_percent_change_from_baseline</th>\n",
       "      <th>grocery_and_pharmacy_percent_change_from_baseline</th>\n",
       "      <th>parks_percent_change_from_baseline</th>\n",
       "      <th>transit_stations_percent_change_from_baseline</th>\n",
       "      <th>workplaces_percent_change_from_baseline</th>\n",
       "      <th>residential_percent_change_from_baseline</th>\n",
       "    </tr>\n",
       "  </thead>\n",
       "  <tbody>\n",
       "    <tr>\n",
       "      <th>0</th>\n",
       "      <td>AE</td>\n",
       "      <td>United Arab Emirates</td>\n",
       "      <td>NaN</td>\n",
       "      <td>NaN</td>\n",
       "      <td>NaN</td>\n",
       "      <td>NaN</td>\n",
       "      <td>NaN</td>\n",
       "      <td>ChIJvRKrsd9IXj4RpwoIwFYv0zM</td>\n",
       "      <td>2020-02-15</td>\n",
       "      <td>0.0</td>\n",
       "      <td>4.0</td>\n",
       "      <td>5.0</td>\n",
       "      <td>0.0</td>\n",
       "      <td>2.0</td>\n",
       "      <td>1.0</td>\n",
       "    </tr>\n",
       "    <tr>\n",
       "      <th>1</th>\n",
       "      <td>AE</td>\n",
       "      <td>United Arab Emirates</td>\n",
       "      <td>NaN</td>\n",
       "      <td>NaN</td>\n",
       "      <td>NaN</td>\n",
       "      <td>NaN</td>\n",
       "      <td>NaN</td>\n",
       "      <td>ChIJvRKrsd9IXj4RpwoIwFYv0zM</td>\n",
       "      <td>2020-02-16</td>\n",
       "      <td>1.0</td>\n",
       "      <td>4.0</td>\n",
       "      <td>4.0</td>\n",
       "      <td>1.0</td>\n",
       "      <td>2.0</td>\n",
       "      <td>1.0</td>\n",
       "    </tr>\n",
       "  </tbody>\n",
       "</table>\n",
       "</div>"
      ],
      "text/plain": [
       "  country_region_code        country_region sub_region_1 sub_region_2  \\\n",
       "0                  AE  United Arab Emirates          NaN          NaN   \n",
       "1                  AE  United Arab Emirates          NaN          NaN   \n",
       "\n",
       "  metro_area iso_3166_2_code  census_fips_code                     place_id  \\\n",
       "0        NaN             NaN               NaN  ChIJvRKrsd9IXj4RpwoIwFYv0zM   \n",
       "1        NaN             NaN               NaN  ChIJvRKrsd9IXj4RpwoIwFYv0zM   \n",
       "\n",
       "         date  retail_and_recreation_percent_change_from_baseline  \\\n",
       "0  2020-02-15                                                0.0    \n",
       "1  2020-02-16                                                1.0    \n",
       "\n",
       "   grocery_and_pharmacy_percent_change_from_baseline  \\\n",
       "0                                                4.0   \n",
       "1                                                4.0   \n",
       "\n",
       "   parks_percent_change_from_baseline  \\\n",
       "0                                 5.0   \n",
       "1                                 4.0   \n",
       "\n",
       "   transit_stations_percent_change_from_baseline  \\\n",
       "0                                            0.0   \n",
       "1                                            1.0   \n",
       "\n",
       "   workplaces_percent_change_from_baseline  \\\n",
       "0                                      2.0   \n",
       "1                                      2.0   \n",
       "\n",
       "   residential_percent_change_from_baseline  \n",
       "0                                       1.0  \n",
       "1                                       1.0  "
      ]
     },
     "execution_count": 23,
     "metadata": {},
     "output_type": "execute_result"
    }
   ],
   "source": [
    "df_google_mobility.head(2)"
   ]
  },
  {
   "cell_type": "code",
   "execution_count": 16,
   "metadata": {},
   "outputs": [],
   "source": [
    "df1 = df_google_mobility.groupby(['country_region'])['sub_region_1'].nunique().reset_index().sort_values(by='sub_region_1')\n",
    "df2 = df_google_mobility.groupby(['country_region'])['sub_region_2'].nunique().reset_index().sort_values(by='sub_region_2')\n",
    "df_data_availability = pd.merge(df1,df2,on='country_region')\n"
   ]
  },
  {
   "cell_type": "code",
   "execution_count": 19,
   "metadata": {},
   "outputs": [
    {
     "data": {
      "text/plain": [
       "95"
      ]
     },
     "execution_count": 19,
     "metadata": {},
     "output_type": "execute_result"
    }
   ],
   "source": [
    "df_data_availability[df_data_availability['sub_region_1']>0]['country_region'].nunique()"
   ]
  },
  {
   "cell_type": "code",
   "execution_count": 21,
   "metadata": {},
   "outputs": [
    {
     "data": {
      "text/plain": [
       "array(['Gabon', 'Mongolia', 'Belgium', 'Réunion', 'The Bahamas', 'Uganda',\n",
       "       'Cape Verde', 'Antigua and Barbuda', 'Benin', 'Belize', 'Niger',\n",
       "       'Rwanda', 'Togo', 'Denmark', 'Angola', 'Israel', 'Kuwait',\n",
       "       'Greece', 'Burkina Faso', 'Kyrgyzstan', 'United Arab Emirates',\n",
       "       'Australia', 'Haiti', 'Slovakia', 'Pakistan', 'Lebanon',\n",
       "       'Botswana', 'Barbados', 'South Africa', 'Austria', 'Bolivia',\n",
       "       'Mauritius', 'Zimbabwe', 'Lithuania', 'Cameroon', 'Libya',\n",
       "       'Mozambique', 'Namibia', 'Oman', 'Norway', 'Jordan',\n",
       "       \"Côte d'Ivoire\", 'Netherlands', 'Senegal', 'Canada',\n",
       "       'Saudi Arabia', 'France', 'El Salvador', 'Jamaica', 'Czechia',\n",
       "       'Estonia', 'Chile', 'Malaysia', 'Poland', 'Nicaragua',\n",
       "       'New Zealand', 'Germany', 'Philippines', 'Paraguay', 'Honduras',\n",
       "       'Finland', 'Uruguay', 'Spain', 'Italy', 'Hungary', 'Portugal',\n",
       "       'Sweden', 'Croatia', 'Guatemala', 'Ecuador', 'Argentina',\n",
       "       'Tanzania', 'Cambodia', 'Ireland', 'Peru', 'Switzerland', 'Brazil',\n",
       "       'Egypt', 'Bulgaria', 'Dominican Republic', 'Colombia', 'Mexico',\n",
       "       'Indonesia', 'India', 'Nigeria', 'Kenya', 'Romania', 'Japan',\n",
       "       'United States', 'Latvia', 'Slovenia', 'Vietnam', 'Puerto Rico',\n",
       "       'Turkey', 'United Kingdom'], dtype=object)"
      ]
     },
     "execution_count": 21,
     "metadata": {},
     "output_type": "execute_result"
    }
   ],
   "source": [
    "df_data_availability[df_data_availability['sub_region_1']>0]['country_region'].unique()"
   ]
  },
  {
   "cell_type": "code",
   "execution_count": 20,
   "metadata": {},
   "outputs": [
    {
     "data": {
      "text/plain": [
       "42"
      ]
     },
     "execution_count": 20,
     "metadata": {},
     "output_type": "execute_result"
    }
   ],
   "source": [
    "df_data_availability[df_data_availability['sub_region_2']>0]['country_region'].nunique()"
   ]
  },
  {
   "cell_type": "code",
   "execution_count": 22,
   "metadata": {},
   "outputs": [
    {
     "data": {
      "text/plain": [
       "array(['Belgium', 'Uganda', 'Rwanda', 'Denmark', 'Israel', 'Australia',\n",
       "       'Slovakia', 'Lebanon', 'Austria', 'Bolivia', 'Zimbabwe',\n",
       "       'Lithuania', 'Cameroon', 'Mozambique', 'Norway', 'Netherlands',\n",
       "       'Canada', 'France', 'Czechia', 'Chile', 'Poland', 'Honduras',\n",
       "       'Finland', 'Spain', 'Italy', 'Portugal', 'Sweden', 'Guatemala',\n",
       "       'Ecuador', 'Argentina', 'Tanzania', 'Peru', 'Brazil', 'Bulgaria',\n",
       "       'Colombia', 'India', 'Nigeria', 'Romania', 'United States',\n",
       "       'Slovenia', 'Turkey', 'United Kingdom'], dtype=object)"
      ]
     },
     "execution_count": 22,
     "metadata": {},
     "output_type": "execute_result"
    }
   ],
   "source": [
    "df_data_availability[df_data_availability['sub_region_2']>0]['country_region'].unique()"
   ]
  },
  {
   "cell_type": "code",
   "execution_count": 31,
   "metadata": {},
   "outputs": [
    {
     "data": {
      "text/plain": [
       "array([nan, 'An Giang Province', 'Ba Ria - Vung Tau', 'Bac Giang',\n",
       "       'Bắc Kạn Province', 'Bac Lieu', 'Bac Ninh Province', 'Ben Tre',\n",
       "       'Binh Dinh Province', 'Binh Duong', 'Binh Phuoc',\n",
       "       'Bình Thuận Province', 'Ca Mau', 'Cần Thơ', 'Cao Bang', 'Da Nang',\n",
       "       'Đắk Lắk Province', 'Dak Nong', 'Dien Bien', 'Dong Nai',\n",
       "       'Đồng Tháp Province', 'Gia Lai', 'Ha Giang', 'Hà Nam', 'Ha Tinh',\n",
       "       'Hai Duong', 'Haiphong', 'Hanoi', 'Hau Giang', 'Ho Chi Minh City',\n",
       "       'Hoa Binh', 'Hung Yen', 'Khanh Hoa Province', 'Kien Giang',\n",
       "       'Kon Tum Province', 'Lai Chau', 'Lâm Đồng', 'Lạng Sơn', 'Lao Cai',\n",
       "       'Long An Province', 'Nam Dinh', 'Nghe An', 'Ninh Bình Province',\n",
       "       'Ninh Thuan Province', 'Phu Tho Province', 'Phú Yên Province',\n",
       "       'Quang Binh Province', 'Quang Nam Province', 'Quang Ngai',\n",
       "       'Quảng Ninh', 'Quảng Trị Province', 'Soc Trang', 'Son La',\n",
       "       'Tây Ninh Province', 'Thai Binh', 'Thai Nguyen', 'Thanh Hoa',\n",
       "       'Thua Thien Hue', 'Tien Giang', 'Tra Vinh', 'Tuyên Quang',\n",
       "       'Vinh Long', 'Vinh Phuc Province', 'Yên Bái'], dtype=object)"
      ]
     },
     "execution_count": 31,
     "metadata": {},
     "output_type": "execute_result"
    }
   ],
   "source": [
    "df_google_mobility[df_google_mobility['country_region']=='Vietnam']['sub_region_1'].unique()"
   ]
  },
  {
   "cell_type": "code",
   "execution_count": null,
   "metadata": {},
   "outputs": [],
   "source": []
  }
 ],
 "metadata": {
  "kernelspec": {
   "display_name": "Python 3",
   "language": "python",
   "name": "python3"
  },
  "language_info": {
   "codemirror_mode": {
    "name": "ipython",
    "version": 3
   },
   "file_extension": ".py",
   "mimetype": "text/x-python",
   "name": "python",
   "nbconvert_exporter": "python",
   "pygments_lexer": "ipython3",
   "version": "3.8.3"
  }
 },
 "nbformat": 4,
 "nbformat_minor": 4
}
